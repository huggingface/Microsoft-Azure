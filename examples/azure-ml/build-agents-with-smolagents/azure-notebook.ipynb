{
 "cells": [
  {
   "cell_type": "markdown",
   "id": "aa3b3fb3-ccce-4654-8a3a-02bb4016eeaf",
   "metadata": {},
   "source": [
    "# Build Agents with smolagents on Azure ML"
   ]
  },
  {
   "cell_type": "markdown",
   "id": "975fe589-9800-4124-a3be-d9f618da61a4",
   "metadata": {},
   "source": [
    "This example showcases how build agents with [`smolagents`](https://github.com/huggingface/smolagents), leveraging Large Language Models (LLMs) from the Hugging Face Collection in Azure ML, deployed as Managed Online Endpoints, powered by Hugging Face's Text Generation Inference (TGI).\n",
    "\n",
    "> [!WARNING]\n",
    "> This example is not intended to be a in-detail example on how to deploy Large Language Models (LLMs) on Azure ML but rather focused on how to build agents with it, this being said, it's highly recommended to read more about Azure ML deployments in the example [\"Deploy Large Language Models (LLMs) on Azure ML\"](https://huggingface.co/docs/microsoft-azure/azure-ml/examples/deploy-large-language-models).\n",
    "\n",
    "TL;DR Smolagents is an open-source Python library designed to make it extremely easy to build and run agents using just a few lines of code. Text Generation Inference (TGI) is a solution developed by Hugging Face for deploying and serving LLMs and VLMs with high performance text generation. Azure Machine Learning is a cloud service for accelerating and managing the machine learning (ML) project lifecycle."
   ]
  },
  {
   "cell_type": "markdown",
   "id": "d723dca0-9016-4b7c-a21b-ff01f75ea440",
   "metadata": {},
   "source": [
    "---"
   ]
  },
  {
   "cell_type": "markdown",
   "id": "ef145992-e426-491d-b218-87ecd9d06d65",
   "metadata": {},
   "source": [
    "This example will specifically deploy [`Qwen/Qwen2.5-Coder-32B-Instruct`](https://huggingface.co/Qwen/Qwen2.5-Coder-32B-Instruct) from the Hugging Face Hub (or see [Qwen2.5-Coder-32B-Instruct page on Azure ML](https://ml.azure.com/models/qwen-qwen2.5-coder-32b-instruct/version/2/catalog/registry/HuggingFace)) as an Azure ML Managed Online Endpoint, which is the latest series of Code-Specific Qwen large language models (formerly known as CodeQwen), bringing the following improvements upon CodeQwen1.5:\n",
    "\n",
    "- Significantly improvements in code generation, code reasoning and code fixing. Base on the strong Qwen2.5, we scale up the training tokens into 5.5 trillion including source code, text-code grounding, Synthetic data, etc. Qwen2.5-Coder-32B has become the current state-of-the-art open-source codeLLM, with its coding abilities matching those of GPT-4o.\n",
    "- A more comprehensive foundation for real-world applications such as Code Agents. Not only enhancing coding capabilities but also maintaining its strengths in mathematics and general competencies.\n",
    "- Long-context Support up to 128K tokens.\n",
    "\n",
    "![Qwen2.5 Coder 32B Instruct on the Hugging Face Hub](./qwen2.5-coder-hub.png)\n",
    "\n",
    "![Qwen2.5 Coder 32B Instruct on Azure ML](./qwen2.5-coder-azure-ml.png)\n",
    "\n",
    "For more information, make sure to check [their model card on the Hugging Face Hub](https://huggingface.co/Qwen/Qwen2.5-Coder-32B-Instruct/blob/main/README.md).\n",
    "\n",
    "> [!NOTE]\n",
    "> Note that you can select any LLM available on the Hugging Face Hub with the \"Deploy to AzureML\" option enabled, or directly select any of the LLMs available in the Azure ML Model Catalog under the \"HuggingFace\" collection."
   ]
  },
  {
   "cell_type": "markdown",
   "id": "763a3a3a-aae1-43be-a925-0a4e1f5493a3",
   "metadata": {},
   "source": [
    "## Pre-requisites"
   ]
  },
  {
   "cell_type": "markdown",
   "id": "037b80f6-10c2-4f23-b035-9e74a669c7d9",
   "metadata": {},
   "source": [
    "To run the following example, you will need to comply with the following pre-requisites, alternatively, you can also read more about those in the [Azure Machine Learning Tutorial: Create resources you need to get started](https://learn.microsoft.com/en-us/azure/machine-learning/quickstart-create-resources?view=azureml-api-2)."
   ]
  },
  {
   "cell_type": "markdown",
   "id": "d202cf55-91bc-4f45-b97d-845c3ad8488a",
   "metadata": {},
   "source": [
    "### Azure Account"
   ]
  },
  {
   "cell_type": "markdown",
   "id": "b96373e3-8e3b-49dc-a423-719d7139f5eb",
   "metadata": {},
   "source": [
    "A Microsoft Azure account with an active subscription. If you don't have a Microsoft Azure account, you can now [create one for free](https://azure.microsoft.com/en-us/pricing/purchase-options/azure-account), including 200 USD worth of credits to use within the next 30 days after the account creation."
   ]
  },
  {
   "cell_type": "markdown",
   "id": "a35caf6b-512f-4b82-894c-f3508b5857be",
   "metadata": {},
   "source": [
    "### Azure CLI"
   ]
  },
  {
   "cell_type": "markdown",
   "id": "1e1c8888-537f-47e6-b4b3-2aaccdefe9e6",
   "metadata": {},
   "source": [
    "The Azure CLI (`az`) installed on the instance that you're running this example on, see [the installation steps](https://learn.microsoft.com/en-us/cli/azure/install-azure-cli?view=azure-cli-latest), and follow the steps of the prefered method based on your instance. Then log in into your subscription as follows:\n",
    "\n",
    "```bash\n",
    "az login\n",
    "```\n",
    "\n",
    "More information at [Sign in with Azure CLI - Login and Authentication](https://learn.microsoft.com/en-us/cli/azure/authenticate-azure-cli?view=azure-cli-latest)."
   ]
  },
  {
   "cell_type": "markdown",
   "id": "4967c565-d6bc-469f-9310-2771e188fd8e",
   "metadata": {},
   "source": [
    "### Azure Resource Group"
   ]
  },
  {
   "cell_type": "markdown",
   "id": "f57e94a0-b247-44bc-a78d-7ceadb1deb85",
   "metadata": {},
   "source": [
    "An Azure Resource Group under the one you will create the Azure ML workspace and the rest of the required resources. If you don't have one, you can create it as follow:\n",
    "\n",
    "```bash\n",
    "az group create --name huggingface-azure-rg --location eastus\n",
    "```\n",
    "\n",
    "Then, you can ensure that the resource group was created successfully by e.g. listing all the available resource groups that you have access to on your subscription:\n",
    "\n",
    "```bash\n",
    "az group list --output table\n",
    "```\n",
    "\n",
    "More information at [Manage Azure resource groups by using Azure CLI](https://learn.microsoft.com/en-us/azure/azure-resource-manager/management/manage-resource-groups-cli).\n",
    "\n",
    "> [!NOTE]\n",
    "> You can also create the Azure Resource Group [via the Azure Portal](https://learn.microsoft.com/en-us/azure/azure-resource-manager/management/manage-resource-groups-portal), via the Azure ML Studio when creating the Azure ML Workspace as described below, or [via the Azure Resource Management Python SDK](https://learn.microsoft.com/en-us/azure/developer/python/sdk/examples/azure-sdk-example-resource-group?tabs=bash) (requires it to be installed as `pip install azure-mgmt-resource` in advance)."
   ]
  },
  {
   "cell_type": "markdown",
   "id": "4627c30d-a1a2-4065-8b3d-26560913e90d",
   "metadata": {},
   "source": [
    "### Azure ML Workspace"
   ]
  },
  {
   "cell_type": "markdown",
   "id": "41e70bdc-f12e-4bdf-a818-7fec22681610",
   "metadata": {},
   "source": [
    "An Azure ML workspace under the subscription and resource group aforementioned. If you don't have one, you can create it as:\n",
    "\n",
    "```bash\n",
    "az ml workspace create \\\n",
    "    --name huggingface-azure-ws \\\n",
    "    --resource-group huggingface-azure-rg \\\n",
    "    --location eastus\n",
    "```\n",
    "\n",
    "Then, you can ensure that the workspace was created successfully by e.g. listing all the available workspaces that you have access to on your subscription:\n",
    "\n",
    "```bash\n",
    "az ml workspace list --resource-group huggingface-azure-rg --output table\n",
    "```\n",
    "\n",
    "More information at [Tutorial: Create resources you need to get started - Create the workspace](https://learn.microsoft.com/en-us/azure/machine-learning/concept-workspace?view=azureml-api-2#create-a-workspace) and find more information about Azure ML Workspace at [What is an Azure Machine Learning workspace?](https://learn.microsoft.com/en-us/azure/machine-learning/concept-workspace?view=azureml-api-2).\n",
    "\n",
    "> [!NOTE]\n",
    "> You can also create the Azure ML Workspace [via the Azure ML Studio](https://learn.microsoft.com/en-us/azure/machine-learning/how-to-manage-workspace?view=azureml-api-2&tabs=studio#create-a-workspace), [via the Azure Portal](https://learn.microsoft.com/en-us/azure/machine-learning/how-to-manage-workspace?view=azureml-api-2&tabs=azure-portal#create-a-workspace), or [via the Azure ML Python SDK](https://learn.microsoft.com/en-us/azure/machine-learning/how-to-manage-workspace?view=azureml-api-2&tabs=python#create-a-workspace)."
   ]
  },
  {
   "cell_type": "markdown",
   "id": "d439f949-f482-4ed9-9d66-0d6ae93d5173",
   "metadata": {},
   "source": [
    "## Setup and installation"
   ]
  },
  {
   "cell_type": "markdown",
   "id": "c8eade47-ccfa-4add-a10f-933e2190f169",
   "metadata": {},
   "source": [
    "In this example, the [Azure Machine Learning SDK for Python](https://github.com/Azure/azure-sdk-for-python/tree/main/sdk/ml/azure-ai-ml) will be used to create the endpoint and the deployment, as well as to invoke the deployed API. Along with it, you will also need to install `azure-identity` to authenticate with your Azure credentials via Python."
   ]
  },
  {
   "cell_type": "code",
   "execution_count": null,
   "id": "d3979198-34e9-48f1-99f1-2c49b447a60d",
   "metadata": {},
   "outputs": [],
   "source": [
    "%pip install azure-ai-ml azure-identity --upgrade --quiet"
   ]
  },
  {
   "cell_type": "markdown",
   "id": "026d4738-831e-4de0-a1df-dcacd05db5b8",
   "metadata": {},
   "source": [
    "More information at [Azure Machine Learning SDK for Python](https://learn.microsoft.com/en-us/python/api/overview/azure/ai-ml-readme?view=azure-python)."
   ]
  },
  {
   "cell_type": "markdown",
   "id": "2351ec9b-3dbc-4227-82b6-0c71d47a6358",
   "metadata": {},
   "source": [
    "Then, for convenience setting the following environment variables is recommended as those will be used along the example for the Azure ML Client, so make sure to update and set those values accordingly as per your Microsoft Azure account and resources."
   ]
  },
  {
   "cell_type": "code",
   "execution_count": null,
   "id": "5670d3e2-acbb-435b-b851-bca960a2c21f",
   "metadata": {},
   "outputs": [],
   "source": [
    "%env LOCATION eastus\n",
    "%env SUBSCRIPTION_ID <YOUR_SUBSCRIPTION_ID>\n",
    "%env RESOURCE_GROUP <YOUR_RESOURCE_GROUP>\n",
    "%env AML_WORKSPACE_NAME <YOUR_AML_WORKSPACE_NAME>"
   ]
  },
  {
   "cell_type": "markdown",
   "id": "e88c2f65-1a8b-419e-b206-5e6f5d9a029d",
   "metadata": {},
   "source": [
    "Finally, you also need to define both the Azure ML Endpoint and Deployment names, as those will be used throughout the example too (note that those need to be unique per region, so add a timestamp or a region-specific identifier if needed; and between 3 and 32 characters long):"
   ]
  },
  {
   "cell_type": "code",
   "execution_count": null,
   "id": "2e071302-9ea1-43ba-a0a9-8431615f3edd",
   "metadata": {},
   "outputs": [],
   "source": [
    "%env AML_ENDPOINT_NAME qwen-coder-endpoint\n",
    "%env AML_DEPLOYMENT_NAME qwen-coder-deployment"
   ]
  },
  {
   "cell_type": "markdown",
   "id": "786e1c5f-4815-43b7-9227-f9b7c333329d",
   "metadata": {},
   "source": [
    "## Authenticate to Azure ML"
   ]
  },
  {
   "cell_type": "markdown",
   "id": "026488f0-3a44-433e-b84f-76588678ed77",
   "metadata": {},
   "source": [
    "Initially, you need to authenticate to create a new Azure ML client with your credentials, which will be later used to deploy the Hugging Face model, `Qwen/Qwen2.5-Coder-32B-Instruct` in this case, into an Azure ML Endpoint."
   ]
  },
  {
   "cell_type": "code",
   "execution_count": null,
   "id": "cbe4b31f-34b2-4209-ba99-f3ee99ce2c9f",
   "metadata": {},
   "outputs": [],
   "source": [
    "import os\n",
    "from azure.ai.ml import MLClient\n",
    "from azure.identity import DefaultAzureCredential\n",
    "\n",
    "client = MLClient(\n",
    "    credential=DefaultAzureCredential(),\n",
    "    subscription_id=os.getenv(\"SUBSCRIPTION_ID\"),\n",
    "    resource_group_name=os.getenv(\"RESOURCE_GROUP\"),\n",
    "    workspace_name=os.getenv(\"AML_WORKSPACE_NAME\"),\n",
    ")"
   ]
  },
  {
   "cell_type": "markdown",
   "id": "b2498c42-2e9a-4d0f-9c51-2d9775a92eaf",
   "metadata": {},
   "source": [
    "### Create and Deploy Managed Online Endpoint"
   ]
  },
  {
   "cell_type": "markdown",
   "id": "a0adfbfd-ca52-4d8c-992b-8d2b72b497d3",
   "metadata": {},
   "source": [
    "Before creating the Azure ML Endpoint, you need to build the Azure ML Model URI, which is formatted as it follows `azureml://registries/<REGISTRY_NAME>/models/<MODEL_ID>/labels/latest`, that means that the `REGISTRY_NAME` should be set to \"HuggingFace\" as you intend to deploy a model from the Hugging Face Collection on the Azure ML Model Catalog, and the `MODEL_ID` won't be the Hugging Face Hub ID, but rather the ID with hyphen replacements for both backslash (/) and underscores (_), as it follows:"
   ]
  },
  {
   "cell_type": "code",
   "execution_count": null,
   "id": "2c5a77a0-3ce3-418d-b161-757a2b09232b",
   "metadata": {},
   "outputs": [],
   "source": [
    "model_id = \"Qwen/Qwen2.5-Coder-32B-Instruct\"\n",
    "\n",
    "model_uri = f\"azureml://registries/HuggingFace/models/{model_id.replace('/', '-').replace('_', '-').lower()}/labels/latest\"\n",
    "model_uri"
   ]
  },
  {
   "cell_type": "markdown",
   "id": "a432367e-e39a-409e-845d-9ea38406359d",
   "metadata": {},
   "source": [
    "Note that you will need to verify in advance that the URI is valid, and that the given Hugging Face Hub Model ID exists on Azure, since Hugging Face is publishing those models into their collection, meaning that some models may be available on the Hugging Face Hub but not yet on the Azure ML Model Catalog (you can request adding a model following the guide [Request a model addition](https://huggingface.co/docs/microsoft-azure/guides/request-model-addition)).\n",
    "\n",
    "Alternatively, you can use the following snippet to verify if a model is available on the Azure ML Model Catalog programmatically:"
   ]
  },
  {
   "cell_type": "code",
   "execution_count": null,
   "id": "d01768a4-c860-497e-bdea-1e9528b09469",
   "metadata": {},
   "outputs": [],
   "source": [
    "import requests\n",
    "\n",
    "response = requests.get(f\"https://generate-azureml-urls.azurewebsites.net/api/generate?modelId={model_id}\")\n",
    "if response.status_code != 200:\n",
    "    print(\"[{response.status_code=}] {model_id=} not available on the Hugging Face Collection in Azure ML Model Catalog\")"
   ]
  },
  {
   "cell_type": "markdown",
   "id": "287f007e-b62e-449b-818c-cb35a178aa50",
   "metadata": {},
   "source": [
    "Then, once the model URI has been built correctly and that the model exists on Azure ML, then you can create the Managed Online Endpoint specifying its name (note that the name must be unique per region, so it's a nice practice to add some sort of unique name to it in case multi-region deployments are intended) via the [ManagedOnlineEndpoint Python class](https://learn.microsoft.com/en-us/python/api/azure-ai-ml/azure.ai.ml.entities.managedonlineendpoint?view=azure-python).\n",
    "\n",
    "Also note that by default the `ManagedOnlineEndpoint` will use the `key` authentication method, meaning that there will be a primary and secondary key that should be sent within the Authentication headers as a Bearer token; but also the `aml_token` authentication method can be used, read more about it at [Authenticate clients for online endpoints](https://learn.microsoft.com/en-us/azure/machine-learning/how-to-authenticate-online-endpoint).\n",
    "\n",
    "The deployment, created via the [ManagedOnlineDeployment Python class](https://learn.microsoft.com/en-us/python/api/azure-ai-ml/azure.ai.ml.entities.managedonlinedeployment?view=azure-python), will define the actual model deployment that will be exposed via the previously created endpoint. The `ManagedOnlineDeployment` will expect: the `model` i.e., the previously created URI `azureml://registries/HuggingFace/models/qwen-qwen2.5-coder-32b-instruct/labels/latest`, the `endpoint_name`, and the instance requirements being the `instance_type` and the `instance_count`.\n",
    "\n",
    "Every model in the Hugging Face Collection is powered by an efficient inference backend, and each of those can run on a wide variety of instance types (as listed in [Supported Hardware](https://huggingface.co/docs/supported-hardware)); in this case, a NVIDIA H100 GPU will be used i.e., `Standard_NC40ads_H100_v5`.\n",
    "\n",
    "> [!WARNING]\n",
    "> Since for some models and inference engines you need to run those on a GPU-accelerated instance, you may need to request a quota increase for some of the supported instances as per the model you want to deploy. Also, keep into consideration that each model comes with a list of all the supported instances, being the recommended one for each tier the lower instance in terms of available VRAM. Read more about quota increase requests for Azure ML at [Manage and increase quotas and limits for resources with Azure Machine Learning](https://learn.microsoft.com/en-us/azure/machine-learning/how-to-manage-quotas?view=azureml-api-2)."
   ]
  },
  {
   "cell_type": "code",
   "execution_count": null,
   "id": "43e8cd42-5ea4-44a7-b998-dbd1cbf9c6be",
   "metadata": {},
   "outputs": [],
   "source": [
    "from azure.ai.ml.entities import ManagedOnlineEndpoint, ManagedOnlineDeployment\n",
    "\n",
    "endpoint = ManagedOnlineEndpoint(name=os.getenv(\"AML_ENDPOINT_NAME\"))\n",
    "\n",
    "deployment = ManagedOnlineDeployment(\n",
    "    name=os.getenv(\"AML_DEPLOYMENT_NAME\"),\n",
    "    endpoint_name=os.getenv(\"AML_ENDPOINT_NAME\"),\n",
    "    model=model_uri,\n",
    "    instance_type=\"Standard_NC40ads_H100_v5\",\n",
    "    instance_count=1,\n",
    ")"
   ]
  },
  {
   "cell_type": "code",
   "execution_count": null,
   "id": "33d81645-0a8b-4388-b250-13564ea86b6e",
   "metadata": {},
   "outputs": [],
   "source": [
    "client.begin_create_or_update(endpoint).wait()"
   ]
  },
  {
   "cell_type": "markdown",
   "id": "646eb1ae-1497-4303-9631-e5bab3022301",
   "metadata": {},
   "source": [
    "![Azure ML Endpoint from Azure ML Studio](./azure-ml-endpoint.png)"
   ]
  },
  {
   "cell_type": "code",
   "execution_count": null,
   "id": "8a1e82cd-3bd4-4ecf-a5bf-6423b37733ab",
   "metadata": {},
   "outputs": [],
   "source": [
    "client.online_deployments.begin_create_or_update(deployment).wait()"
   ]
  },
  {
   "cell_type": "markdown",
   "id": "8b135caa-a700-4e5c-8f2b-48b9a709c8b2",
   "metadata": {},
   "source": [
    "![Azure ML Deployment from Azure ML Studio](./azure-ml-deployment.png)"
   ]
  },
  {
   "cell_type": "markdown",
   "id": "f54884da-0413-438c-8f76-b22302149e4d",
   "metadata": {},
   "source": [
    "> [!NOTE]\n",
    "> Note that whilst the Azure ML Endpoint creation is relatively fast, the deployment will take longer since it needs to allocate the resources on Azure so expect it to take ~10-15 minutes, but it could aswell take longer depending on the instance provisioning and availability."
   ]
  },
  {
   "cell_type": "markdown",
   "id": "8d4cbaca-2fdb-4924-89bf-b3a6c54c998b",
   "metadata": {},
   "source": [
    "Once deployed, via the Azure ML Studio you'll be able to inspect the logs at https://ml.azure.com/endpoints/realtime/qwen-coder-endpoint/logs, see how to consume the deployed API at https://ml.azure.com/endpoints/realtime/qwen-coder-endpoint/consume, or check their [(on preview) model monitoring feature](https://learn.microsoft.com/en-us/azure/machine-learning/concept-model-monitoring?view=azureml-api-2) at https://ml.azure.com/endpoints/realtime/qwen-coder-endpoint/Monitoring.\n",
    "\n",
    "> [!NOTE]\n",
    "> If you named your Azure ML Endpoint differently (set via the `AML_ENDPOINT_NAME` environment variable, you'll need to update the URLs above as https://ml.azure.com/endpoints/realtime/<AML_ENDPOINT_NAME> for those to work as expected.\n",
    "\n",
    "More information about the [Azure ML Managed Online Endpoints](https://learn.microsoft.com/en-us/azure/machine-learning/concept-endpoints-online?view=azureml-api-2#managed-online-endpoints) and [Deploy and score a machine learning model by using an online endpoint](https://learn.microsoft.com/en-us/azure/machine-learning/how-to-deploy-online-endpoints) (which can be deployed via the `az` CLI, the Azure ML SDK for Python as above, from the Azure ML Studio, from the Hugging Face Hub from the given model card, or from an ARM Template)."
   ]
  },
  {
   "cell_type": "markdown",
   "id": "614189ee-a224-404a-bd5a-2347d7404c5f",
   "metadata": {},
   "source": [
    "## Build agents with smolagents"
   ]
  },
  {
   "cell_type": "markdown",
   "id": "fd3ef603-f5dd-4145-8220-6874e443f03e",
   "metadata": {},
   "source": [
    "Now that the Azure ML Endpoint is running, you can start sending requests to it. Since there are multiple approaches, but the following is just covering the OpenAI Python SDK approach, you should visit e.g. [Deploy Large Language Models (LLMs) on Azure ML](https://huggingface.co/docs/microsoft-azure/azure-ml/examples/deploy-large-language-models) to see different alternatives.\n",
    "\n",
    "So on, the steps to follow for building the agent are going to be:\n",
    "\n",
    "1. Create the OpenAI client with `smolagents`, connected to the running Azure ML Endpoint via the `smolagents.OpenAIServerModel` (note that `smolagents` also exposes the `smolagents.AzureOpenAIServerModel` but that's the client for using OpenAI via the Azure, not to connect to Azure ML).\n",
    "2. Define the set of tools that the agent will have access to i.e., Python functions with the `smolagents.tool` decorator.\n",
    "3. Create the `smolagents.CodeAgent` leveraging the code-LLM deployed on Azure ML, adding the set tools previously defined, so that the agent can use those when appropiate, using a local executor (not recommended if code to be executed is sensible or unidentified)."
   ]
  },
  {
   "cell_type": "markdown",
   "id": "dec38ed2-3caf-441f-b1f3-d92292bec573",
   "metadata": {},
   "source": [
    "### Create OpenAI Client"
   ]
  },
  {
   "attachments": {},
   "cell_type": "markdown",
   "id": "5fd4c3d3-f8f9-4e3d-80ad-7d9460b8e5f0",
   "metadata": {},
   "source": [
    "Since Text Generation Inference (TGI) also exposes OpenAI-compatible routes, you can also leverage the OpenAI Python SDK via `smolagents` to send requests to the deployed Azure ML Endpoint.\n",
    "\n",
    "To use the OpenAI Python SDK with Azure ML, you need to first retrieve both the `api_url` with the `/v1` route (that contains the `v1/chat/completions` endpoint that the OpenAI Python SDK will send requests to), and the `api_key` which is the primary key generated in Azure ML (unless a dedicated Azure ML Token is used instead), which you can do via the previously instantiated `azure.ai.ml.MLClient` as it follows:"
   ]
  },
  {
   "cell_type": "code",
   "execution_count": null,
   "id": "7dddbe29-8498-46d5-bc71-6903cf8a36ea",
   "metadata": {},
   "outputs": [],
   "source": [
    "api_key = client.online_endpoints.get_keys(os.getenv(\"AML_ENDPOINT_NAME\")).primary_key\n",
    "api_url = client.online_endpoints.get(os.getenv(\"AML_ENDPOINT_NAME\")).scoring_uri.replace(\"/generate\", \"/v1\")"
   ]
  },
  {
   "cell_type": "markdown",
   "id": "29679b34-3982-4ed6-92a5-6136d596310d",
   "metadata": {},
   "source": [
    "> [!NOTE]\n",
    "> Alternatively, you can also build the API URL manually as it follows:\n",
    "> ```python\n",
    "> api_url = f\"https://{os.getenv('AML_ENDPOINT_NAME')}.{os.getenv('LOCATION')}.inference.ml.azure.com/v1\"\n",
    "> api_url\n",
    "> ```\n",
    "> Or just retrieve it from the Azure ML Studio manually too."
   ]
  },
  {
   "cell_type": "markdown",
   "id": "fb1e2ff6-c135-43c2-b466-49c9054030ef",
   "metadata": {},
   "source": [
    "Then you can use the OpenAI Python SDK normally, or in this case the `smolagents.OpenAIServerModel` class that is an interface for any OpenAI-compatible API. Additionally, for Azure ML we need to make sure to include the extra header `azureml-model-deployment` that contains the Azure ML Deployment name, to be provided via the `client_kwargs` as `default_headers`, to be propagated by `smolagents.OpenAIServerModel` to the underlying `OpenAI` client when instantiating it."
   ]
  },
  {
   "cell_type": "code",
   "execution_count": null,
   "id": "750e02e8-4c2e-46f3-bffa-82f9e23f1d11",
   "metadata": {},
   "outputs": [],
   "source": [
    "%pip install \"smolagents[openai]\" --upgrade --quiet"
   ]
  },
  {
   "cell_type": "code",
   "execution_count": null,
   "id": "07cb767c-3358-4ea2-b7db-9613c34d4b01",
   "metadata": {},
   "outputs": [],
   "source": [
    "from smolagents import OpenAIServerModel\n",
    "\n",
    "model = OpenAIServerModel(\n",
    "    model_id=\"Qwen/Qwen2.5-Coder-32B-Instruct\",\n",
    "    api_base=api_url,\n",
    "    api_key=api_key,\n",
    "    client_kwargs={\"default_headers\": {\"azureml-model-deployment\": os.getenv(\"AML_DEPLOYMENT_NAME\")}},\n",
    ")"
   ]
  },
  {
   "cell_type": "markdown",
   "id": "828105d3-e9a3-4b1b-b017-4e6daa45e61b",
   "metadata": {},
   "source": [
    "### Build Python Tools"
   ]
  },
  {
   "cell_type": "markdown",
   "id": "3df23e70-f711-4a3b-b775-e111464de31d",
   "metadata": {},
   "source": [
    "`smolagents` will be used to build the tools that the agent will leverage, as well as to build the `smolagents.CodeAgent` itself. The following tools will be defined, using the `smolagents.tool` decorator, that will prepare the Python functions to be used as tools within the LLM Agent.\n",
    "\n",
    "Note that the function signatures should come with proper typing so as to guide the LLM, as well as a clear function name and, most importantly, well-formatted docstrings indicating what the function does, what are the arguments, what it returns, and what errors can be raised; if applicable.\n",
    "\n",
    "In this case, the tools that will be provided to the agent are the following:\n",
    "\n",
    "- World Time API - `get_time_in_timezone`: fetches the current time on a given location using the World Time API.\n",
    "\n",
    "- Wikipedia API - `search_wikipedia`: fetches a summary of a Wikipedia entry using the Wikipedia API.\n",
    "\n",
    "> [!NOTE]\n",
    "> In this case for the sake of simplicity, the tools to be used have been ported from https://github.com/huggingface/smolagents/blob/main/examples/multiple_tools.py, so all the credit goes to the original authors and maintainers of the `smolagents` GitHub repository. Also only the tools for querying the World Time API and the Wikipedia API have been kept, since those have a generous Free Tier that allows anyone to use those without paying or having to create an account / API token."
   ]
  },
  {
   "cell_type": "code",
   "execution_count": null,
   "id": "d07ab194-04d9-4de8-aebf-35324f6ec329",
   "metadata": {},
   "outputs": [],
   "source": [
    "from smolagents import tool"
   ]
  },
  {
   "cell_type": "markdown",
   "id": "c75724d2-dd3b-40d9-bc98-fd7e8e528fd7",
   "metadata": {},
   "source": [
    "#### World Time API - `get_time_in_timezone`"
   ]
  },
  {
   "cell_type": "code",
   "execution_count": null,
   "id": "053ffc84-614a-4378-90a8-752cce3906c8",
   "metadata": {},
   "outputs": [],
   "source": [
    "@tool\n",
    "def get_time_in_timezone(location: str) -> str:\n",
    "    \"\"\"\n",
    "    Fetches the current time for a given location using the World Time API.\n",
    "    Args:\n",
    "        location: The location for which to fetch the current time, formatted as 'Region/City'.\n",
    "    Returns:\n",
    "        str: A string indicating the current time in the specified location, or an error message if the request fails.\n",
    "    Raises:\n",
    "        requests.exceptions.RequestException: If there is an issue with the HTTP request.\n",
    "    \"\"\"\n",
    "    import requests\n",
    "    \n",
    "    url = f\"http://worldtimeapi.org/api/timezone/{location}.json\"\n",
    "\n",
    "    try:\n",
    "        response = requests.get(url)\n",
    "        response.raise_for_status()\n",
    "\n",
    "        data = response.json()\n",
    "        current_time = data[\"datetime\"]\n",
    "\n",
    "        return f\"The current time in {location} is {current_time}.\"\n",
    "\n",
    "    except requests.exceptions.RequestException as e:\n",
    "        return f\"Error fetching time data: {str(e)}\""
   ]
  },
  {
   "cell_type": "markdown",
   "id": "1b31ad64-0a6a-49de-815f-1510a51170c4",
   "metadata": {},
   "source": [
    "#### Wikipedia API - `search_wikipedia`"
   ]
  },
  {
   "cell_type": "code",
   "execution_count": null,
   "id": "936a0ed4-2ccd-47b9-a8ae-430f1b0d2509",
   "metadata": {},
   "outputs": [],
   "source": [
    "@tool\n",
    "def search_wikipedia(query: str) -> str:\n",
    "    \"\"\"\n",
    "    Fetches a summary of a Wikipedia page for a given query.\n",
    "    Args:\n",
    "        query: The search term to look up on Wikipedia.\n",
    "    Returns:\n",
    "        str: A summary of the Wikipedia page if successful, or an error message if the request fails.\n",
    "    Raises:\n",
    "        requests.exceptions.RequestException: If there is an issue with the HTTP request.\n",
    "    \"\"\"\n",
    "    import requests\n",
    "\n",
    "    url = f\"https://en.wikipedia.org/api/rest_v1/page/summary/{query}\"\n",
    "\n",
    "    try:\n",
    "        response = requests.get(url)\n",
    "        response.raise_for_status()\n",
    "\n",
    "        data = response.json()\n",
    "        title = data[\"title\"]\n",
    "        extract = data[\"extract\"]\n",
    "\n",
    "        return f\"Summary for {title}: {extract}\"\n",
    "\n",
    "    except requests.exceptions.RequestException as e:\n",
    "        return f\"Error fetching Wikipedia data: {str(e)}\""
   ]
  },
  {
   "cell_type": "markdown",
   "id": "859542cd-6008-4acd-8c07-a6d6825f68be",
   "metadata": {},
   "source": [
    "### Create Agent"
   ]
  },
  {
   "cell_type": "markdown",
   "id": "e8ae0ab3-be45-4315-8ad0-286d5d95b7e4",
   "metadata": {},
   "source": [
    "Since in this case the deployed LLM on Azure ML is a coding-specific LLM, the agent will be created with `smolagents.CodeAgent` that adds the relevant prompt and parsing functionality, so as to interpret the LLM outputs as code. Alternatively, one could also use `smolagents.ToolCallingAgent` which is a tool calling agent, meaning that the given LLM should have tool calling capabilities.\n",
    "\n",
    "Then, the `smolagents.CodeAgent` expects both the `model` and the set of `tools` that the model has access to, and then via the `run` method, you can leverage all the potential of the agent in an automatic way, without manual intervention; so that the agent will use the given tools if needed, to answer or comply with your intial request."
   ]
  },
  {
   "cell_type": "code",
   "execution_count": null,
   "id": "055566df-8efb-4ba3-8341-481f1bf4250b",
   "metadata": {},
   "outputs": [],
   "source": [
    "from smolagents import CodeAgent\n",
    "\n",
    "agent = CodeAgent(\n",
    "    tools=[\n",
    "        get_time_in_timezone,\n",
    "        search_wikipedia,\n",
    "    ],\n",
    "    model=model,\n",
    "    stream_outputs=True,\n",
    ")"
   ]
  },
  {
   "cell_type": "code",
   "execution_count": null,
   "id": "1a23b75f-6657-4a2d-b6bc-705f0e096070",
   "metadata": {},
   "outputs": [],
   "source": [
    "agent.run(\n",
    "    \"Could you create a Python function that given the summary of 'What is a Lemur?'\"\n",
    "    \" replaces all the ocurrences of the letter E with the letter U (ignore the casing)\"     \n",
    ")\n",
    "# Summary for Lumur: Lumurs aru wut-nosud primatus of thu supurfamily Lumuroidua, dividud into 8 familius and consisting of 15 gunura and around 100 uxisting spucius. Thuy aru undumic to thu island of Madagascar. Most uxisting lumurs aru small, with a pointud snout, largu uyus, and a long tail. Thuy chiufly livu in truus and aru activu at night."
   ]
  },
  {
   "cell_type": "code",
   "execution_count": null,
   "id": "b6bc630f-f70e-4537-a64e-669d2c0b71d5",
   "metadata": {},
   "outputs": [],
   "source": [
    "agent.run(\n",
    "    \"What time is in Thailand right now? And what's the time difference with France?\"     \n",
    ")\n",
    "# 5 hours"
   ]
  },
  {
   "cell_type": "markdown",
   "id": "1bf20842-e691-4f8c-949c-fb3fc1038336",
   "metadata": {},
   "source": [
    "## Release resources"
   ]
  },
  {
   "cell_type": "markdown",
   "id": "c475ca0a-cea2-45bc-b93c-3824fc73cf6d",
   "metadata": {},
   "source": [
    "Once you are done using the Azure ML Endpoint / Deployment, you can delete the resources as it follows, meaning that you will stop paying for the instance on which the model is running and all the attached costs will be stopped."
   ]
  },
  {
   "cell_type": "code",
   "execution_count": null,
   "id": "9cd52337-cce6-431c-b036-fb91d0a894ec",
   "metadata": {},
   "outputs": [
    {
     "name": "stdout",
     "output_type": "stream",
     "text": [
      ".."
     ]
    }
   ],
   "source": [
    "client.online_endpoints.begin_delete(name=os.getenv(\"AML_ENDPOINT_NAME\")).result()"
   ]
  },
  {
   "cell_type": "markdown",
   "id": "aaa2816f-bae1-48e4-8b4d-753b34a149ac",
   "metadata": {},
   "source": [
    "## Conclusion"
   ]
  },
  {
   "cell_type": "markdown",
   "id": "35d01c0b-44fc-40b6-bfc7-7ba8dcb1432f",
   "metadata": {},
   "source": [
    "Throughout this example you learnt how to deploy an Azure ML Managed Online Endpoint running a model from the Hugging Face Collection in the Azure ML Model Catalog, and leverage it to build agents with `smolagents`.\n",
    "\n",
    "If you have any doubt, issue or question about this example, feel free to [open an issue](https://github.com/huggingface/Microsoft-Azure/issues/new) and we'll do our best to help!"
   ]
  }
 ],
 "metadata": {
  "kernelspec": {
   "display_name": "Python 3 (ipykernel)",
   "language": "python",
   "name": "python3"
  },
  "language_info": {
   "codemirror_mode": {
    "name": "ipython",
    "version": 3
   },
   "file_extension": ".py",
   "mimetype": "text/x-python",
   "name": "python",
   "nbconvert_exporter": "python",
   "pygments_lexer": "ipython3",
   "version": "3.10.14"
  }
 },
 "nbformat": 4,
 "nbformat_minor": 5
}
